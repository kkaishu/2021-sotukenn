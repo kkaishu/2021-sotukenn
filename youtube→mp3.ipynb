{
  "nbformat": 4,
  "nbformat_minor": 0,
  "metadata": {
    "colab": {
      "name": "youtube→mp3.ipynb",
      "provenance": [],
      "authorship_tag": "ABX9TyPbn62xXR5YUYPhGTqwx6wU"
    },
    "kernelspec": {
      "name": "python3",
      "display_name": "Python 3"
    },
    "language_info": {
      "name": "python"
    }
  },
  "cells": [
    {
      "cell_type": "code",
      "execution_count": 1,
      "metadata": {
        "colab": {
          "base_uri": "https://localhost:8080/"
        },
        "id": "7H8-DpZRZu9m",
        "outputId": "1d4464ff-d1b6-4418-8a19-6c9842d431a5"
      },
      "outputs": [
        {
          "output_type": "stream",
          "name": "stdout",
          "text": [
            "Collecting youtube-dl\n",
            "  Downloading youtube_dl-2021.12.17-py2.py3-none-any.whl (1.9 MB)\n",
            "\u001b[K     |████████████████████████████████| 1.9 MB 5.1 MB/s \n",
            "\u001b[?25hInstalling collected packages: youtube-dl\n",
            "Successfully installed youtube-dl-2021.12.17\n"
          ]
        }
      ],
      "source": [
        "pip install youtube-dl"
      ]
    },
    {
      "cell_type": "code",
      "source": [
        "import youtube_dl\n",
        "\n",
        "ydl_opts = {\n",
        "    'format': 'bestaudio/best',\n",
        "    'outtmpl':  \"sample_music\" + '.%(ext)s',\n",
        "    'postprocessors': [\n",
        "        {'key': 'FFmpegExtractAudio',\n",
        "        'preferredcodec': 'mp3',\n",
        "         'preferredquality': '192'},\n",
        "        {'key': 'FFmpegMetadata'},\n",
        "    ],\n",
        "}\n",
        "\n",
        "ydl = youtube_dl.YoutubeDL(ydl_opts)\n",
        "info_dict = ydl.extract_info(\"https://www.youtube.com/watch?v=8IOSztadymc\", download=True)"
      ],
      "metadata": {
        "colab": {
          "base_uri": "https://localhost:8080/"
        },
        "id": "I1OjEj29aTej",
        "outputId": "773a939f-99ad-4633-8a40-277d395c0cd5"
      },
      "execution_count": 3,
      "outputs": [
        {
          "output_type": "stream",
          "name": "stdout",
          "text": [
            "[youtube] 8IOSztadymc: Downloading webpage\n",
            "[download] Destination: sample_music.webm\n",
            "[download] 100% of 4.20MiB in 00:58\n",
            "[ffmpeg] Destination: sample_music.mp3\n",
            "Deleting original file sample_music.webm (pass -k to keep)\n",
            "[ffmpeg] Adding metadata to 'sample_music.mp3'\n"
          ]
        }
      ]
    },
    {
      "cell_type": "code",
      "source": [
        ""
      ],
      "metadata": {
        "id": "-Fmh2pGXc-jO"
      },
      "execution_count": null,
      "outputs": []
    }
  ]
}